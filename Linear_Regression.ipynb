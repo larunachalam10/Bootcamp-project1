{
 "cells": [
  {
   "cell_type": "code",
   "execution_count": 1,
   "metadata": {},
   "outputs": [],
   "source": [
    "# Find a correlation or linear regression, peak dates, based on what are they correlated (pop density)"
   ]
  },
  {
   "cell_type": "code",
   "execution_count": 2,
   "metadata": {},
   "outputs": [],
   "source": [
    "# Dependencies and Setup\n",
    "import matplotlib.pyplot as plt\n",
    "import pandas as pd\n",
    "import numpy as np\n",
    "import requests\n",
    "import time\n",
    "import scipy.stats as st\n",
    "from scipy.stats import linregress\n",
    "from pprint import pprint\n",
    "from sklearn.linear_model import LinearRegression\n",
    "\n",
    "covid_clean_CA_TX = \"Resources/covid_clean_CA_TX.csv\""
   ]
  },
  {
   "cell_type": "code",
   "execution_count": 3,
   "metadata": {},
   "outputs": [
    {
     "data": {
      "text/html": [
       "<div>\n",
       "<style scoped>\n",
       "    .dataframe tbody tr th:only-of-type {\n",
       "        vertical-align: middle;\n",
       "    }\n",
       "\n",
       "    .dataframe tbody tr th {\n",
       "        vertical-align: top;\n",
       "    }\n",
       "\n",
       "    .dataframe thead th {\n",
       "        text-align: right;\n",
       "    }\n",
       "</style>\n",
       "<table border=\"1\" class=\"dataframe\">\n",
       "  <thead>\n",
       "    <tr style=\"text-align: right;\">\n",
       "      <th></th>\n",
       "      <th>State</th>\n",
       "      <th>countyFIPS</th>\n",
       "      <th>County Name</th>\n",
       "      <th>population</th>\n",
       "      <th>stateFIPS</th>\n",
       "      <th>1/22/2020</th>\n",
       "      <th>1/23/2020</th>\n",
       "      <th>1/24/2020</th>\n",
       "      <th>1/25/2020</th>\n",
       "      <th>1/26/2020</th>\n",
       "      <th>...</th>\n",
       "      <th>10/21/2020</th>\n",
       "      <th>10/22/2020</th>\n",
       "      <th>10/23/2020</th>\n",
       "      <th>10/24/2020</th>\n",
       "      <th>10/25/2020</th>\n",
       "      <th>10/26/2020</th>\n",
       "      <th>10/27/2020</th>\n",
       "      <th>10/28/2020</th>\n",
       "      <th>10/29/2020</th>\n",
       "      <th>10/30/2020</th>\n",
       "    </tr>\n",
       "  </thead>\n",
       "  <tbody>\n",
       "    <tr>\n",
       "      <th>0</th>\n",
       "      <td>CA</td>\n",
       "      <td>6000</td>\n",
       "      <td>Grand Princess Cruise Ship</td>\n",
       "      <td>0</td>\n",
       "      <td>6</td>\n",
       "      <td>0</td>\n",
       "      <td>0</td>\n",
       "      <td>0</td>\n",
       "      <td>0</td>\n",
       "      <td>0</td>\n",
       "      <td>...</td>\n",
       "      <td>21</td>\n",
       "      <td>21</td>\n",
       "      <td>21</td>\n",
       "      <td>21</td>\n",
       "      <td>21</td>\n",
       "      <td>21</td>\n",
       "      <td>21</td>\n",
       "      <td>21</td>\n",
       "      <td>21</td>\n",
       "      <td>21</td>\n",
       "    </tr>\n",
       "    <tr>\n",
       "      <th>1</th>\n",
       "      <td>CA</td>\n",
       "      <td>6001</td>\n",
       "      <td>Alameda County</td>\n",
       "      <td>1671329</td>\n",
       "      <td>6</td>\n",
       "      <td>0</td>\n",
       "      <td>0</td>\n",
       "      <td>0</td>\n",
       "      <td>0</td>\n",
       "      <td>0</td>\n",
       "      <td>...</td>\n",
       "      <td>22932</td>\n",
       "      <td>23001</td>\n",
       "      <td>23133</td>\n",
       "      <td>23215</td>\n",
       "      <td>23312</td>\n",
       "      <td>23391</td>\n",
       "      <td>23391</td>\n",
       "      <td>23576</td>\n",
       "      <td>23636</td>\n",
       "      <td>23775</td>\n",
       "    </tr>\n",
       "    <tr>\n",
       "      <th>2</th>\n",
       "      <td>CA</td>\n",
       "      <td>6003</td>\n",
       "      <td>Alpine County</td>\n",
       "      <td>1129</td>\n",
       "      <td>6</td>\n",
       "      <td>0</td>\n",
       "      <td>0</td>\n",
       "      <td>0</td>\n",
       "      <td>0</td>\n",
       "      <td>0</td>\n",
       "      <td>...</td>\n",
       "      <td>3</td>\n",
       "      <td>3</td>\n",
       "      <td>3</td>\n",
       "      <td>3</td>\n",
       "      <td>3</td>\n",
       "      <td>3</td>\n",
       "      <td>3</td>\n",
       "      <td>3</td>\n",
       "      <td>3</td>\n",
       "      <td>3</td>\n",
       "    </tr>\n",
       "    <tr>\n",
       "      <th>3</th>\n",
       "      <td>CA</td>\n",
       "      <td>6005</td>\n",
       "      <td>Amador County</td>\n",
       "      <td>39752</td>\n",
       "      <td>6</td>\n",
       "      <td>0</td>\n",
       "      <td>0</td>\n",
       "      <td>0</td>\n",
       "      <td>0</td>\n",
       "      <td>0</td>\n",
       "      <td>...</td>\n",
       "      <td>276</td>\n",
       "      <td>287</td>\n",
       "      <td>291</td>\n",
       "      <td>291</td>\n",
       "      <td>291</td>\n",
       "      <td>299</td>\n",
       "      <td>301</td>\n",
       "      <td>302</td>\n",
       "      <td>308</td>\n",
       "      <td>311</td>\n",
       "    </tr>\n",
       "    <tr>\n",
       "      <th>4</th>\n",
       "      <td>CA</td>\n",
       "      <td>6007</td>\n",
       "      <td>Butte County</td>\n",
       "      <td>219186</td>\n",
       "      <td>6</td>\n",
       "      <td>0</td>\n",
       "      <td>0</td>\n",
       "      <td>0</td>\n",
       "      <td>0</td>\n",
       "      <td>0</td>\n",
       "      <td>...</td>\n",
       "      <td>3018</td>\n",
       "      <td>3030</td>\n",
       "      <td>3047</td>\n",
       "      <td>3047</td>\n",
       "      <td>3047</td>\n",
       "      <td>3073</td>\n",
       "      <td>3073</td>\n",
       "      <td>3113</td>\n",
       "      <td>3127</td>\n",
       "      <td>3144</td>\n",
       "    </tr>\n",
       "  </tbody>\n",
       "</table>\n",
       "<p>5 rows × 288 columns</p>\n",
       "</div>"
      ],
      "text/plain": [
       "  State  countyFIPS                 County Name  population  stateFIPS  \\\n",
       "0    CA        6000  Grand Princess Cruise Ship           0          6   \n",
       "1    CA        6001              Alameda County     1671329          6   \n",
       "2    CA        6003               Alpine County        1129          6   \n",
       "3    CA        6005               Amador County       39752          6   \n",
       "4    CA        6007                Butte County      219186          6   \n",
       "\n",
       "   1/22/2020  1/23/2020  1/24/2020  1/25/2020  1/26/2020  ...  10/21/2020  \\\n",
       "0          0          0          0          0          0  ...          21   \n",
       "1          0          0          0          0          0  ...       22932   \n",
       "2          0          0          0          0          0  ...           3   \n",
       "3          0          0          0          0          0  ...         276   \n",
       "4          0          0          0          0          0  ...        3018   \n",
       "\n",
       "   10/22/2020  10/23/2020  10/24/2020  10/25/2020  10/26/2020  10/27/2020  \\\n",
       "0          21          21          21          21          21          21   \n",
       "1       23001       23133       23215       23312       23391       23391   \n",
       "2           3           3           3           3           3           3   \n",
       "3         287         291         291         291         299         301   \n",
       "4        3030        3047        3047        3047        3073        3073   \n",
       "\n",
       "   10/28/2020  10/29/2020  10/30/2020  \n",
       "0          21          21          21  \n",
       "1       23576       23636       23775  \n",
       "2           3           3           3  \n",
       "3         302         308         311  \n",
       "4        3113        3127        3144  \n",
       "\n",
       "[5 rows x 288 columns]"
      ]
     },
     "execution_count": 3,
     "metadata": {},
     "output_type": "execute_result"
    }
   ],
   "source": [
    "covid_clean_CA_TX_df = pd.read_csv(covid_clean_CA_TX)\n",
    "\n",
    "covid_clean_CA_TX_df.head()"
   ]
  },
  {
   "cell_type": "code",
   "execution_count": 4,
   "metadata": {},
   "outputs": [
    {
     "data": {
      "image/png": "[encoded data removed]",
      "text/plain": [
       "<Figure size 432x288 with 1 Axes>"
      ]
     },
     "metadata": {
      "needs_background": "light"
     },
     "output_type": "display_data"
    },
    {
     "name": "stdout",
     "output_type": "stream",
     "text": [
      "The correlation is 0.93.\n"
     ]
    }
   ],
   "source": [
    "x_values = covid_clean_CA_TX_df['population']\n",
    "y_values = covid_clean_CA_TX_df['4/1/2020']\n",
    "(slope, intercept, rvalue, pvalue, stderr) = linregress(x_values, y_values)\n",
    "regress_values = x_values * slope + intercept\n",
    "line_eq = \"y = \" + str(round(slope,2)) + \"x + \" + str(round(intercept,2))\n",
    "plt.scatter(x_values, y_values) \n",
    "plt.plot(x_values,regress_values,\"r-\")\n",
    "plt.annotate(line_eq,(6,10),fontsize=15,color=\"red\")\n",
    "plt.title(\"population vs total number of cases\")\n",
    "plt.xlabel('April 1, 2020')\n",
    "plt.ylabel('total number of cases')\n",
    "plt.show()\n",
    "# print(rvalue)\n",
    "correlation = st.pearsonr(covid_clean_CA_TX_df[\"population\"], covid_clean_CA_TX_df[\"4/1/2020\"])\n",
    "print(f\"The correlation is {round(correlation[0],2)}.\")"
   ]
  },
  {
   "cell_type": "code",
   "execution_count": 5,
   "metadata": {},
   "outputs": [
    {
     "data": {
      "text/plain": [
       "<Figure size 432x288 with 0 Axes>"
      ]
     },
     "metadata": {},
     "output_type": "display_data"
    }
   ],
   "source": [
    "plt.savefig(\"Images/LinearRegressionApril.png\")"
   ]
  },
  {
   "cell_type": "code",
   "execution_count": 6,
   "metadata": {},
   "outputs": [
    {
     "name": "stdout",
     "output_type": "stream",
     "text": [
      "The correlation is 0.93.\n"
     ]
    }
   ],
   "source": [
    "correlation = st.pearsonr(covid_clean_CA_TX_df[\"population\"], covid_clean_CA_TX_df[\"4/1/2020\"])\n",
    "print(f\"The correlation is {round(correlation[0],2)}.\")"
   ]
  },
  {
   "cell_type": "code",
   "execution_count": 7,
   "metadata": {},
   "outputs": [
    {
     "data": {
      "image/png": "[encoded data removed]",
      "text/plain": [
       "<Figure size 432x288 with 1 Axes>"
      ]
     },
     "metadata": {
      "needs_background": "light"
     },
     "output_type": "display_data"
    },
    {
     "name": "stdout",
     "output_type": "stream",
     "text": [
      "The correlation is 0.94.\n"
     ]
    }
   ],
   "source": [
    "x_values = covid_clean_CA_TX_df['population']\n",
    "y_values = covid_clean_CA_TX_df['5/1/2020']\n",
    "(slope, intercept, rvalue, pvalue, stderr) = linregress(x_values, y_values)\n",
    "regress_values = x_values * slope + intercept\n",
    "line_eq = \"y = \" + str(round(slope,2)) + \"x + \" + str(round(intercept,2))\n",
    "plt.scatter(x_values, y_values) \n",
    "plt.plot(x_values,regress_values,\"r-\")\n",
    "plt.annotate(line_eq,(6,10),fontsize=15,color=\"red\")\n",
    "plt.title(\"population vs total number of cases\")\n",
    "plt.xlabel('May 1, 2020')\n",
    "plt.ylabel('total number of cases')\n",
    "plt.show()\n",
    "# print(rvalue)\n",
    "correlation = st.pearsonr(covid_clean_CA_TX_df[\"population\"], covid_clean_CA_TX_df[\"5/1/2020\"])\n",
    "print(f\"The correlation is {round(correlation[0],2)}.\")"
   ]
  },
  {
   "cell_type": "code",
   "execution_count": 8,
   "metadata": {},
   "outputs": [
    {
     "data": {
      "text/plain": [
       "<Figure size 432x288 with 0 Axes>"
      ]
     },
     "metadata": {},
     "output_type": "display_data"
    }
   ],
   "source": [
    "plt.savefig(\"Images/LinearRegressionMay.png\")"
   ]
  },
  {
   "cell_type": "code",
   "execution_count": 9,
   "metadata": {},
   "outputs": [
    {
     "name": "stdout",
     "output_type": "stream",
     "text": [
      "The correlation is 0.94.\n"
     ]
    }
   ],
   "source": [
    "correlation = st.pearsonr(covid_clean_CA_TX_df[\"population\"], covid_clean_CA_TX_df[\"5/1/2020\"])\n",
    "print(f\"The correlation is {round(correlation[0],2)}.\")"
   ]
  },
  {
   "cell_type": "code",
   "execution_count": 10,
   "metadata": {},
   "outputs": [
    {
     "data": {
      "image/png": "[encoded data removed]",
      "text/plain": [
       "<Figure size 432x288 with 1 Axes>"
      ]
     },
     "metadata": {
      "needs_background": "light"
     },
     "output_type": "display_data"
    },
    {
     "name": "stdout",
     "output_type": "stream",
     "text": [
      "The correlation is 0.94.\n"
     ]
    }
   ],
   "source": [
    "x_values = covid_clean_CA_TX_df['population']\n",
    "y_values = covid_clean_CA_TX_df['6/30/2020']\n",
    "(slope, intercept, rvalue, pvalue, stderr) = linregress(x_values, y_values)\n",
    "regress_values = x_values * slope + intercept\n",
    "line_eq = \"y = \" + str(round(slope,2)) + \"x + \" + str(round(intercept,2))\n",
    "plt.scatter(x_values, y_values) \n",
    "plt.plot(x_values,regress_values,\"r-\")\n",
    "plt.annotate(line_eq,(6,10),fontsize=15,color=\"red\")\n",
    "plt.title(\"population vs total number of cases\")\n",
    "plt.xlabel('June 30, 2020')\n",
    "plt.ylabel('total number of cases')\n",
    "plt.show()\n",
    "# print(rvalue)\n",
    "correlation = st.pearsonr(covid_clean_CA_TX_df[\"population\"], covid_clean_CA_TX_df[\"6/30/2020\"])\n",
    "print(f\"The correlation is {round(correlation[0],2)}.\")"
   ]
  },
  {
   "cell_type": "code",
   "execution_count": 11,
   "metadata": {},
   "outputs": [
    {
     "data": {
      "text/plain": [
       "<Figure size 432x288 with 0 Axes>"
      ]
     },
     "metadata": {},
     "output_type": "display_data"
    }
   ],
   "source": [
    "plt.savefig(\"Images/LinearRegressionJune.png\")"
   ]
  },
  {
   "cell_type": "code",
   "execution_count": 12,
   "metadata": {},
   "outputs": [
    {
     "name": "stdout",
     "output_type": "stream",
     "text": [
      "The correlation is 0.94.\n"
     ]
    }
   ],
   "source": [
    "correlation = st.pearsonr(covid_clean_CA_TX_df[\"population\"], covid_clean_CA_TX_df[\"6/30/2020\"])\n",
    "print(f\"The correlation is {round(correlation[0],2)}.\")"
   ]
  },
  {
   "cell_type": "code",
   "execution_count": 13,
   "metadata": {},
   "outputs": [
    {
     "data": {
      "image/png": "[encoded data removed]",
      "text/plain": [
       "<Figure size 432x288 with 1 Axes>"
      ]
     },
     "metadata": {
      "needs_background": "light"
     },
     "output_type": "display_data"
    },
    {
     "name": "stdout",
     "output_type": "stream",
     "text": [
      "The correlation is 0.97.\n"
     ]
    }
   ],
   "source": [
    "x_values = covid_clean_CA_TX_df['population']\n",
    "y_values = covid_clean_CA_TX_df['10/30/2020']\n",
    "(slope, intercept, rvalue, pvalue, stderr) = linregress(x_values, y_values)\n",
    "regress_values = x_values * slope + intercept\n",
    "line_eq = \"y = \" + str(round(slope,2)) + \"x + \" + str(round(intercept,2))\n",
    "plt.scatter(x_values, y_values) \n",
    "plt.plot(x_values,regress_values,\"r-\")\n",
    "plt.annotate(line_eq,(6,10),fontsize=15,color=\"red\")\n",
    "plt.title(\"population vs total number of cases\")\n",
    "plt.xlabel('October 30, 2020')\n",
    "plt.ylabel('total number of cases')\n",
    "plt.show()\n",
    "# print(rvalue)\n",
    "correlation = st.pearsonr(covid_clean_CA_TX_df[\"population\"], covid_clean_CA_TX_df[\"10/30/2020\"])\n",
    "print(f\"The correlation is {round(correlation[0],2)}.\")"
   ]
  },
  {
   "cell_type": "code",
   "execution_count": 14,
   "metadata": {},
   "outputs": [
    {
     "data": {
      "text/plain": [
       "<Figure size 432x288 with 0 Axes>"
      ]
     },
     "metadata": {},
     "output_type": "display_data"
    }
   ],
   "source": [
    "plt.savefig(\"Images/LinearRegressionOctober.png\")"
   ]
  },
  {
   "cell_type": "code",
   "execution_count": 15,
   "metadata": {},
   "outputs": [
    {
     "name": "stdout",
     "output_type": "stream",
     "text": [
      "The correlation is 0.97.\n"
     ]
    }
   ],
   "source": [
    "correlation = st.pearsonr(covid_clean_CA_TX_df[\"population\"], covid_clean_CA_TX_df[\"10/30/2020\"])\n",
    "print(f\"The correlation is {round(correlation[0],2)}.\")"
   ]
  },
  {
   "cell_type": "code",
   "execution_count": 16,
   "metadata": {},
   "outputs": [],
   "source": [
    "# Example from Matplotlib Day 3 INS 8\n",
    "# Add the linear regression equation and line to plot\n",
    "# x_values = housing_data['RM']\n",
    "# y_values = housing_data['MEDV']\n",
    "# (slope, intercept, rvalue, pvalue, stderr) = linregress(x_values, y_values)\n",
    "# regress_values = x_values * slope + intercept\n",
    "# line_eq = \"y = \" + str(round(slope,2)) + \"x + \" + str(round(intercept,2))\n",
    "# plt.scatter(x_values,y_values)\n",
    "# plt.plot(x_values,regress_values,\"r-\")\n",
    "# plt.annotate(line_eq,(6,10),fontsize=15,color=\"red\")\n",
    "# plt.xlabel('Rooms in House')\n",
    "# plt.ylabel('Median House Prices ($1000)')\n",
    "# plt.show()\n",
    "\n",
    "# TX shut down March 19 - reopen May 1, started new restrictions June 26  \n",
    "# CA shut down March 19 - May 26, started new restricions June 28 "
   ]
  },
  {
   "cell_type": "code",
   "execution_count": null,
   "metadata": {},
   "outputs": [],
   "source": []
  },
  {
   "cell_type": "code",
   "execution_count": null,
   "metadata": {},
   "outputs": [],
   "source": []
  }
 ],
 "metadata": {
  "kernelspec": {
   "display_name": "Python 3",
   "language": "python",
   "name": "python3"
  },
  "language_info": {
   "codemirror_mode": {
    "name": "ipython",
    "version": 3
   },
   "file_extension": ".py",
   "mimetype": "text/x-python",
   "name": "python",
   "nbconvert_exporter": "python",
   "pygments_lexer": "ipython3",
   "version": "3.6.10"
  }
 },
 "nbformat": 4,
 "nbformat_minor": 4
}
